{
 "cells": [
  {
   "cell_type": "markdown",
   "metadata": {},
   "source": [
    "# Assignment 3\n",
    "### Carlos Dasaed Salcedo Carreno\n",
    "### cdsalcedo@mun.ca\n",
    "### 201892008\n",
    "\n",
    "\n",
    "## Question 1:\n",
    "\n",
    "A) Generate a 1D NumPy array nparray1D containing numbers from -10 to 10 in\n",
    "increments of 0.2.\n",
    "\n",
    "B) Make another 2D NumPy array 5x11 called nparray2D containing even numbers\n",
    "equally spaced values between 2 and 112.\n",
    "\n",
    "C) Write a function called k_sum which takes input parameters k and N and returns the\n",
    "partial sum  from n=2 to N, sum 2/( (n^k) +1)\n",
    " Don't use loops.\n",
    "\n",
    "D) A magic square is a matrix all of whose row sums, column sums and the sums of the\n",
    "two diagonals are the same. (One diagonal of a matrix goes from the top left to the\n",
    "bottom right, the other diagonal goes from top right to bottom left.). Define function to\n",
    "verify that the matrix is a magic square or not. Hints: The function np.diag extracts\n",
    "the diagonal of a matrix, and the function np.fliplr extracts the other diagonal. Don’t\n",
    "use loops."
   ]
  },
  {
   "cell_type": "code",
   "execution_count": 2,
   "metadata": {},
   "outputs": [
    {
     "name": "stdout",
     "output_type": "stream",
     "text": [
      "Part A\n",
      "[-1.00000000e+01 -9.80000000e+00 -9.60000000e+00 -9.40000000e+00\n",
      " -9.20000000e+00 -9.00000000e+00 -8.80000000e+00 -8.60000000e+00\n",
      " -8.40000000e+00 -8.20000000e+00 -8.00000000e+00 -7.80000000e+00\n",
      " -7.60000000e+00 -7.40000000e+00 -7.20000000e+00 -7.00000000e+00\n",
      " -6.80000000e+00 -6.60000000e+00 -6.40000000e+00 -6.20000000e+00\n",
      " -6.00000000e+00 -5.80000000e+00 -5.60000000e+00 -5.40000000e+00\n",
      " -5.20000000e+00 -5.00000000e+00 -4.80000000e+00 -4.60000000e+00\n",
      " -4.40000000e+00 -4.20000000e+00 -4.00000000e+00 -3.80000000e+00\n",
      " -3.60000000e+00 -3.40000000e+00 -3.20000000e+00 -3.00000000e+00\n",
      " -2.80000000e+00 -2.60000000e+00 -2.40000000e+00 -2.20000000e+00\n",
      " -2.00000000e+00 -1.80000000e+00 -1.60000000e+00 -1.40000000e+00\n",
      " -1.20000000e+00 -1.00000000e+00 -8.00000000e-01 -6.00000000e-01\n",
      " -4.00000000e-01 -2.00000000e-01 -3.55271368e-14  2.00000000e-01\n",
      "  4.00000000e-01  6.00000000e-01  8.00000000e-01  1.00000000e+00\n",
      "  1.20000000e+00  1.40000000e+00  1.60000000e+00  1.80000000e+00\n",
      "  2.00000000e+00  2.20000000e+00  2.40000000e+00  2.60000000e+00\n",
      "  2.80000000e+00  3.00000000e+00  3.20000000e+00  3.40000000e+00\n",
      "  3.60000000e+00  3.80000000e+00  4.00000000e+00  4.20000000e+00\n",
      "  4.40000000e+00  4.60000000e+00  4.80000000e+00  5.00000000e+00\n",
      "  5.20000000e+00  5.40000000e+00  5.60000000e+00  5.80000000e+00\n",
      "  6.00000000e+00  6.20000000e+00  6.40000000e+00  6.60000000e+00\n",
      "  6.80000000e+00  7.00000000e+00  7.20000000e+00  7.40000000e+00\n",
      "  7.60000000e+00  7.80000000e+00  8.00000000e+00  8.20000000e+00\n",
      "  8.40000000e+00  8.60000000e+00  8.80000000e+00  9.00000000e+00\n",
      "  9.20000000e+00  9.40000000e+00  9.60000000e+00  9.80000000e+00]\n"
     ]
    }
   ],
   "source": [
    "import numpy as np\n",
    "\n",
    "print(\"Part A\")\n",
    "a = np.arange(-10,10,0.2)\n",
    "print(a)\n"
   ]
  },
  {
   "cell_type": "code",
   "execution_count": 11,
   "metadata": {},
   "outputs": [
    {
     "name": "stdout",
     "output_type": "stream",
     "text": [
      "Part B\n",
      "[[  2   4   6   8  10  12  14  16  18  20  22]\n",
      " [ 24  26  28  30  32  34  36  38  40  42  44]\n",
      " [ 46  48  50  52  54  56  58  60  62  64  66]\n",
      " [ 68  70  72  74  76  78  80  82  84  86  88]\n",
      " [ 90  92  94  96  98 100 102 104 106 108 110]]\n"
     ]
    }
   ],
   "source": [
    "import numpy as np\n",
    "print(\"Part B\")\n",
    "nparray2d = np.arange(2,112,2).reshape(5,11)\n",
    "print(nparray2d)\n"
   ]
  },
  {
   "cell_type": "code",
   "execution_count": 38,
   "metadata": {},
   "outputs": [
    {
     "name": "stdout",
     "output_type": "stream",
     "text": [
      "Part C\n",
      "6.028812647620697\n"
     ]
    }
   ],
   "source": [
    "import numpy as np\n",
    "print(\"Part C\")\n",
    "\n",
    "def k_sum(k, N):\n",
    "    return  np.sum(2 / ((np.arange(2,N)^k) +1))\n",
    "    #kval = np.arange(2,n,dtype=float)\n",
    "    #kval2 = np.fromfunction(lambda x: 2/( (x^k) +1), (1,n), dtype=float)\n",
    "    #sum 2/( (n^k) +1)\n",
    "\n",
    "print(k_sum(3,20))\n"
   ]
  },
  {
   "cell_type": "code",
   "execution_count": 69,
   "metadata": {},
   "outputs": [
    {
     "name": "stdout",
     "output_type": "stream",
     "text": [
      "Part D\n",
      "True\n",
      "True\n",
      "False\n"
     ]
    }
   ],
   "source": [
    "import numpy as np\n",
    "print(\"Part D\")\n",
    "def magicsquare(matrix):\n",
    "    rows = np.sum(matrix,axis=0)\n",
    "    cols = np.sum(matrix,axis=1)\n",
    "    diag1 = np.sum(np.diag(matrix))\n",
    "    diag2 = np.sum(np.diag(np.fliplr(matrix)))\n",
    "    return ((diag1==diag2) and (diag1==rows[0]) and np.array_equal(rows,cols))\n",
    "\n",
    "example1 = np.array(([2,7,6],[9,5,1],[4,3,8]))\n",
    "example2 = np.array(([8,1,6],[3,5,7],[4,9,2]))\n",
    "example3 = np.array(([8,1,2],[1,5,7],[4,9,2]))\n",
    "\n",
    "print(magicsquare(example1))\n",
    "print(magicsquare(example2))\n",
    "print(magicsquare(example3))"
   ]
  },
  {
   "cell_type": "markdown",
   "metadata": {},
   "source": [
    "## Question 2:\n",
    "\n",
    "\n",
    "A) Plot a sine function in red with a dashed line\n",
    "style, a cosine function in blue solid line, and the\n",
    "legend. Then fill the area between the two\n",
    "functions with yellow color if sine > cosine and\n",
    "green color if cosine > sine. The x-limits are\n",
    "between 0 and 10, whereas the y-limit is\n",
    "between -1 and 1. (Hint: use plt.fill_between)\n",
    "\n",
    "\n",
    "B) On a new figure plot a exp function in green,\n",
    "add second y-axis (Hint, use plt.twinx) and plot\n",
    "an exponential function on a y-logscale in red\n",
    "(Hint, use plt.semilogy). Add a title, and labels\n",
    "in fontsize 25 and in green and in red for\n",
    "second y axis."
   ]
  },
  {
   "cell_type": "code",
   "execution_count": 99,
   "metadata": {},
   "outputs": [
    {
     "name": "stdout",
     "output_type": "stream",
     "text": [
      "Part A\n"
     ]
    },
    {
     "data": {
      "text/plain": [
       "Text(0.5, 1.0, 'Question 2 Part A')"
      ]
     },
     "execution_count": 99,
     "metadata": {},
     "output_type": "execute_result"
    },
    {
     "data": {
      "image/png": "[encoded data removed]",
      "text/plain": [
       "<Figure size 432x288 with 1 Axes>"
      ]
     },
     "metadata": {
      "needs_background": "light"
     },
     "output_type": "display_data"
    }
   ],
   "source": [
    "%matplotlib inline\n",
    "from matplotlib import pyplot as plt\n",
    "import numpy as np\n",
    "\n",
    "print(\"Part A\")\n",
    "\n",
    "fig, axis = plt.subplots(1,1) # Create a figure\n",
    "axis.set_xlim(0, 10)\n",
    "axis.set_ylim(-1, 1)\n",
    "\n",
    "\n",
    "x1 = np.arange(0,10,0.1)\n",
    "y1 = np.sin(x1)\n",
    "y2 = np.cos(x1)\n",
    "plt.plot(x1, y2)\n",
    "\n",
    "axis.plot(x1,y1, \"r\", dashes=[10,10,10,10], linewidth=2, label='Sine Function')\n",
    "axis.plot(x1,y2, \"b\", linestyle=\"solid\", linewidth=2 ,label='Cosine Function')\n",
    "axis.legend(loc='lower right')\n",
    "axis.fill_between(x1, y1, y2, where=y1>y2, facecolor='yellow', interpolate=True )\n",
    "axis.fill_between(x1, y1, y2, where=y2>y1, facecolor='green' , interpolate=True )\n",
    "#axis.set_facecolor('black')\n",
    "axis.set_title('Question 2 Part A')\n",
    "\n",
    "#ax_lst[0,1].plot([1, 2, 3, 4], [1, 8, 27, 64], \"g\", marker='o', linestyle='dashed') # basic plot\n",
    "\n"
   ]
  },
  {
   "cell_type": "code",
   "execution_count": 78,
   "metadata": {},
   "outputs": [
    {
     "name": "stdout",
     "output_type": "stream",
     "text": [
      "Part B\n"
     ]
    },
    {
     "data": {
      "text/plain": [
       "Text(0, 0.5, 'Y-logarithmic')"
      ]
     },
     "execution_count": 78,
     "metadata": {},
     "output_type": "execute_result"
    },
    {
     "data": {
      "image/png": "[encoded data removed]",
      "text/plain": [
       "<Figure size 432x288 with 2 Axes>"
      ]
     },
     "metadata": {
      "needs_background": "light"
     },
     "output_type": "display_data"
    }
   ],
   "source": [
    "#B) On a new figure plot a exp function in green, add second y-axis\n",
    "# (Hint, use plt.twinx) and plot an exponential function on a y-logscale in red \n",
    "# (Hint, use plt.semilogy). Add a title, and labels in fontsize 25 and in green and in red for second y axis.\n",
    "%matplotlib inline\n",
    "from matplotlib import pyplot as plt\n",
    "import numpy as np\n",
    "\n",
    "print(\"Part B\")\n",
    "\n",
    "fig, axis = plt.subplots(1,1) # Create a figure\n",
    "x1 = np.arange(0.1,10,0.1)\n",
    "yexp = np.exp(x1)\n",
    "axis.plot(x1, yexp, 'green', linewidth=3 )\n",
    "axis.tick_params(axis='y', labelcolor='green')\n",
    "axis.set_ylabel('Y', color='green', fontsize=25)\n",
    "axis.set_xlabel('X', color='green', fontsize=25)\n",
    "\n",
    "#axis.ylabel(\"Exponential Function\", fontdict=None, labelpad=None)\n",
    "axis2 = axis.twinx()\n",
    "\n",
    "axis2.semilogy(x1,yexp,'red',linewidth=3,  color='red' )\n",
    "axis2.tick_params(axis='y', labelcolor='red')\n",
    "axis.set_title('Question 2 Part B')\n",
    "axis2.set_ylabel('Y-logarithmic', color='red', fontsize=25)\n",
    "\n"
   ]
  },
  {
   "cell_type": "markdown",
   "metadata": {},
   "source": [
    "\n",
    "## Question 3:\n",
    "\n",
    "A) Plot a 2D sine function using pcolor in three\n",
    "different subplot with three different colormaps\n",
    "(twilight, Greys, and Spectral)\n",
    "\n",
    "B) Generate and plot values (20,20) drawn from a\n",
    "normal distribution using Spectral colormap\n",
    "\n",
    "C) Manipulate the array for previous plot such that\n",
    "the highest values are in the bottom-left corner,\n",
    "the lowest in the top-right. Don’t use loop."
   ]
  },
  {
   "cell_type": "code",
   "execution_count": 121,
   "metadata": {},
   "outputs": [
    {
     "name": "stdout",
     "output_type": "stream",
     "text": [
      "Part A\n"
     ]
    },
    {
     "data": {
      "image/png": "[encoded data removed]",
      "text/plain": [
       "<Figure size 432x288 with 3 Axes>"
      ]
     },
     "metadata": {
      "needs_background": "light"
     },
     "output_type": "display_data"
    },
    {
     "data": {
      "image/png": "[encoded data removed]",
      "text/plain": [
       "<Figure size 432x288 with 3 Axes>"
      ]
     },
     "metadata": {
      "needs_background": "light"
     },
     "output_type": "display_data"
    }
   ],
   "source": [
    "%matplotlib inline\n",
    "from math import pi\n",
    "from matplotlib import pyplot as plt\n",
    "import numpy as np\n",
    "\n",
    "print(\"Part A\")\n",
    "\n",
    "x = np.linspace(0, 3, 32)\n",
    "y = np.sin(x)\n",
    "\n",
    "fig, axes = plt.subplots(3,1)\n",
    "axes[0].pcolor([y], cmap='twilight')\n",
    "axes[1].pcolor([y], cmap='Spectral')\n",
    "axes[2].pcolor([y], cmap='Greys')\n",
    "\n",
    "fig.tight_layout() # adjusting the location of axes\n",
    "\n",
    "\n",
    "#print(\"\"\"\n",
    "a = np.sin(np.linspace(0,3,16)).reshape(16, 1)\n",
    "c = a.copy()\n",
    "for i in range(15):\n",
    "    c = np.append(c,a, axis=1)\n",
    "\n",
    "plt.figure()\n",
    "plt.subplot(2,2,1)\n",
    "plt.pcolor(c.transpose(), cmap='twilight')\n",
    "plt.subplot(1,2,2)\n",
    "plt.pcolor(c.transpose(), cmap='Spectral')\n",
    "plt.subplot(2,2,3)\n",
    "plt.pcolor(c.transpose(), cmap='Greys')\n",
    "plt.show()\n",
    "\n",
    "#\"\"\")"
   ]
  },
  {
   "cell_type": "code",
   "execution_count": 132,
   "metadata": {},
   "outputs": [
    {
     "name": "stdout",
     "output_type": "stream",
     "text": [
      "Part B\n",
      "[ 3.94407624e-01  2.59994656e-01 -9.94699142e-02  1.58864476e-01\n",
      " -2.34118704e-02  5.01353634e-02 -2.04343766e-01 -7.33396479e-02\n",
      "  1.16844600e-01 -5.94824850e-01 -1.17931778e-02  5.01759505e-02\n",
      " -2.19267814e-03 -3.04399129e-01 -5.20121527e-02 -2.36286934e-01\n",
      "  1.09376284e-01 -8.00116351e-02 -1.28510801e-01  8.33681485e-02\n",
      " -2.35414720e-01  1.94677480e-02 -2.27994976e-01  3.42687922e-01\n",
      "  4.06459382e-02 -4.32098286e-01 -1.86185767e-02  2.49811396e-01\n",
      "  1.55429593e-01  2.05758128e-01 -1.42668461e-01  2.29537610e-01\n",
      "  6.38728696e-02 -1.48744974e-02 -7.47517753e-03  1.34419398e-01\n",
      "  2.67738195e-01 -1.50903495e-02  9.37077552e-02  1.37796950e-01\n",
      "  6.94688395e-02 -2.38342123e-01 -1.45013325e-01 -2.28131370e-01\n",
      "  3.30916663e-02  1.54291564e-01 -6.05681554e-02 -1.72018867e-02\n",
      "  2.79144573e-01  2.53163615e-01 -6.18565379e-02  9.01888411e-02\n",
      " -1.15249108e-01  5.91621394e-02 -3.70824797e-01  1.13327413e-01\n",
      "  9.25660527e-02 -1.59709075e-03  1.04237332e-01  7.67365534e-02\n",
      " -1.88072748e-02  2.99177712e-01 -1.92015639e-01  1.03516857e-01\n",
      "  1.10718083e-02 -3.05643868e-01  1.61428305e-01 -1.34155765e-01\n",
      " -9.83439091e-02 -1.81339591e-02  3.29689800e-02 -2.37868442e-01\n",
      "  1.02480096e-01  8.39786808e-02  3.71062225e-03 -1.72436194e-01\n",
      "  1.47163106e-01 -8.91532952e-02  3.67139637e-02 -1.85296312e-01\n",
      " -2.69454847e-01 -1.26569807e-01  2.44386337e-01 -3.63164515e-02\n",
      "  4.88559366e-01 -3.88901826e-01  1.25794462e-01 -1.92540785e-01\n",
      "  8.56603185e-02 -4.05471984e-02  2.08106508e-01 -1.64507212e-01\n",
      "  2.46339790e-02  1.48462866e-01  9.13740496e-03  3.95698644e-02\n",
      "  2.48545271e-01  6.53440984e-02  1.97827966e-01 -4.18381903e-02\n",
      "  1.08668248e-01  4.09189858e-02  1.89363099e-01  2.47099067e-01\n",
      "  2.82848224e-01  2.40993058e-03 -1.91668710e-01 -3.34480250e-01\n",
      "  1.23891622e-01 -9.56807764e-02 -6.64528800e-02  1.65920455e-01\n",
      " -2.06597409e-01 -4.90194932e-02 -2.68470780e-01 -1.29799156e-01\n",
      " -8.18289166e-02  1.26584036e-01 -1.26822257e-01 -2.95771637e-01\n",
      " -2.26981330e-02 -1.29537669e-01  3.10887799e-01  4.20642654e-02\n",
      "  1.86242351e-01 -1.36010192e-01  1.58711246e-01 -1.96889549e-01\n",
      " -1.66559804e-02  1.75330290e-01 -2.79985232e-02  2.21187186e-01\n",
      "  1.31828431e-01  1.20436574e-01  2.75061503e-01  1.63881212e-02\n",
      " -7.08527455e-01 -4.65871588e-02 -1.90312107e-01 -2.79245148e-02\n",
      "  4.89851138e-02 -6.67878921e-02 -9.79543592e-03 -4.10688190e-01\n",
      " -2.34523577e-01 -2.50863213e-01 -2.31295380e-02 -1.69875277e-02\n",
      " -9.26009874e-02 -5.09806764e-02  8.70710022e-02  2.87143787e-01\n",
      " -9.56326144e-02 -2.23094098e-02  1.39703375e-01  1.40742891e-01\n",
      " -1.24812690e-01 -3.09946613e-01  2.92531001e-01  3.60873780e-02\n",
      "  7.73191784e-02  1.47336735e-02 -9.81830427e-02  1.56219144e-01\n",
      " -2.79639042e-01  2.94358461e-01  3.81324841e-02  1.52036197e-01\n",
      "  3.51678122e-01 -9.80595778e-02  2.80773378e-01  2.23272075e-01\n",
      "  1.68740079e-01  2.27746458e-01 -6.19173349e-03 -1.47948275e-01\n",
      " -1.80634441e-01 -1.79630307e-01 -1.80653674e-01  2.49674157e-01\n",
      "  1.99651553e-01 -7.56856385e-02  7.86603868e-02  9.56307589e-02\n",
      " -2.15735301e-01  9.47848171e-02  9.92449226e-03 -1.79932487e-01\n",
      "  4.97683273e-02 -2.19434561e-01 -1.07996506e-01  1.18101073e-01\n",
      "  1.46947593e-01 -9.01347204e-02 -4.10814117e-01 -2.61539286e-01\n",
      "  3.33945112e-02 -2.99371548e-01  2.33915005e-02 -1.03392374e-01\n",
      "  3.64565028e-02 -2.01628670e-01 -1.36758391e-01 -7.37542594e-02\n",
      " -4.86950022e-02 -1.29606001e-01 -1.57901675e-01 -1.36656939e-01\n",
      " -1.86777375e-01  3.73605423e-01  1.28883345e-01 -1.62106233e-01\n",
      " -4.95604648e-03 -3.14797121e-02 -6.46604086e-02 -3.77265171e-01\n",
      " -5.53787623e-02 -2.74776699e-01  2.17618972e-01 -9.22148490e-02\n",
      " -1.87214692e-01  1.22876364e-01  4.23401570e-01 -2.29270267e-01\n",
      " -3.42861161e-01  2.27895259e-01  1.49476238e-01  1.15152302e-01\n",
      "  7.31624519e-02  1.34830646e-01 -1.96114114e-02 -8.42977252e-02\n",
      " -3.52740246e-02  7.98384650e-02  2.87868824e-01 -1.37139415e-01\n",
      "  5.30481698e-02  2.64722477e-01  2.19795177e-01  2.64367893e-01\n",
      " -8.77761281e-02  4.90997996e-02 -1.92541547e-01 -3.73468085e-01\n",
      "  1.72961010e-01 -1.73854983e-01 -3.02245416e-02 -3.08114889e-02\n",
      " -2.20752965e-01  1.22749064e-01 -3.70550001e-02 -3.82332225e-01\n",
      "  1.63477123e-01  4.26225355e-02 -1.53498290e-01  1.35147415e-01\n",
      " -5.99716740e-02  1.83812559e-01 -6.30128316e-02 -8.39279043e-02\n",
      "  4.26094692e-02  1.93508258e-01  1.82813206e-01  8.16780035e-02\n",
      " -8.80037499e-02  3.70696017e-03 -2.47007182e-01  1.88955019e-01\n",
      "  2.86805358e-02  5.03490368e-01 -3.67160758e-02 -1.69393090e-01\n",
      "  3.36055870e-02 -2.18124107e-01 -2.93963789e-01 -3.78313428e-02\n",
      " -6.33738906e-02 -3.40741698e-02  6.55373730e-02 -1.90042414e-01\n",
      " -1.42638046e-01  3.41091011e-01  3.56470043e-02  6.15039524e-02\n",
      " -1.10866994e-01 -2.84796405e-01 -1.94692845e-02  1.25137092e-01\n",
      "  2.77588280e-01  2.13478812e-01  3.22347178e-01 -2.82945620e-02\n",
      "  3.36196569e-02  2.98454781e-01 -2.46736794e-01 -4.75696669e-03\n",
      " -2.53600214e-01  4.84680639e-03 -1.95265207e-01 -2.61418947e-01\n",
      "  1.82025143e-01  1.35307494e-01  1.18733116e-01 -1.01117494e-01\n",
      "  1.68583225e-02  2.12457295e-01  9.52336719e-02  1.70465156e-01\n",
      "  3.93479748e-01 -2.99226967e-01  3.11926435e-01  3.57589469e-01\n",
      "  5.29468955e-02  3.00605141e-01  2.22664028e-01 -2.30504194e-01\n",
      " -1.05908623e-01  2.87384142e-01 -1.18284678e-02  1.71802889e-02\n",
      " -6.28230069e-02 -8.93550935e-02 -1.10769828e-01 -1.66371322e-01\n",
      " -8.95133082e-02 -4.64495852e-01 -1.95541525e-01  6.74805521e-02\n",
      " -1.52064776e-01 -4.74029448e-03  1.25386787e-01 -9.31469966e-02\n",
      " -4.78809413e-02 -1.62592833e-01 -1.21095888e-01 -2.99265980e-01\n",
      " -1.03658077e-02  4.62838608e-02 -1.59335332e-01 -1.29725923e-03\n",
      "  4.86588142e-02 -1.81844930e-01  2.54325863e-01 -3.01851845e-01\n",
      " -4.06071589e-01  8.98129272e-02 -1.14951002e-01  6.40090969e-03\n",
      " -1.09192398e-01 -1.04073733e-01  8.68232764e-02 -4.64333572e-02\n",
      " -1.41275657e-01 -4.50328635e-02  3.47494405e-01 -7.83654528e-02\n",
      "  3.87445819e-01 -2.93415310e-02 -3.91795948e-01  1.32462669e-01\n",
      "  7.67326608e-02 -1.74910163e-01 -2.81929306e-01 -8.64903800e-02\n",
      "  2.50801164e-01  2.67056895e-01 -2.58440128e-01  2.78951061e-01\n",
      "  5.64535549e-03  1.33610772e-01 -4.41834182e-01 -1.83977966e-01\n",
      "  1.94372138e-01  2.43765473e-01  6.73612461e-02 -8.28864521e-03\n",
      "  8.18024308e-02 -3.45587165e-01  8.22473913e-02 -1.85575827e-01\n",
      "  3.79638336e-02  2.50759100e-01  1.57502907e-01 -1.19364818e-01\n",
      "  1.60808463e-01  3.48758124e-01  4.41801608e-02  1.45561851e-01\n",
      " -2.83522057e-01 -1.79586758e-01  4.08678519e-02 -8.89490579e-02\n",
      " -2.18849911e-01  4.29720683e-02  2.78608135e-02 -4.34233440e-02\n",
      "  2.16637115e-02  1.50017738e-01 -9.40119665e-02  7.35112146e-02\n",
      " -1.17907339e-01 -2.10595876e-01  9.29758861e-02 -2.30522273e-01\n",
      "  3.93523020e-02 -7.32265841e-02 -1.55155620e-01  1.32619697e-01\n",
      " -1.63717549e-01 -1.97828682e-01  2.86528685e-02  2.31791015e-01\n",
      "  4.01475276e-01 -1.64567365e-01 -1.95309008e-01  1.89224936e-01\n",
      " -1.39337657e-01 -1.82712559e-01  2.30985508e-02  1.13249219e-01\n",
      " -2.42601549e-01  1.52208587e-01  8.89162402e-02  1.46754403e-02\n",
      " -1.28726365e-01  1.79106290e-01 -1.34854179e-01  1.15400958e-01\n",
      "  8.41894482e-02 -1.13126907e-01  2.60834678e-01  8.81979323e-02\n",
      " -5.05603883e-03 -3.66931153e-01 -1.22776326e-01 -2.24966758e-02\n",
      " -2.58422291e-02  2.26414712e-04  3.17119570e-02 -4.34129641e-01\n",
      " -7.43134739e-02 -1.78216839e-01  2.15771608e-01 -3.63367691e-01\n",
      "  4.96993146e-02 -4.84548376e-01 -2.99249276e-01  6.89262218e-02\n",
      "  5.38690367e-01 -1.87908593e-01  3.37227882e-01 -1.39621260e-02\n",
      " -1.34073363e-02  1.05979222e-01  2.46769056e-01  5.93314228e-02\n",
      "  1.72109923e-02  1.12568808e-01  3.99302723e-01  2.11093847e-01\n",
      " -1.14111367e-01  2.89139211e-02 -1.92086446e-01  4.25046297e-02\n",
      "  1.82308307e-01  8.38135757e-02 -6.31644509e-02 -2.84828032e-01\n",
      " -5.31850901e-02  1.50311877e-01  4.03158067e-02 -2.71891107e-01\n",
      "  1.15370692e-01  1.37654155e-01 -1.36780624e-01 -7.67364027e-02\n",
      " -2.93085605e-02 -1.50491561e-01  1.53482196e-01  6.02355407e-02\n",
      "  4.00859323e-01  7.34002897e-03 -1.92869470e-02  2.03363769e-01\n",
      " -8.74629773e-02  2.59836560e-01  2.50390155e-01 -1.58479538e-02\n",
      "  4.33068332e-02 -4.51472629e-01  2.15368215e-02 -2.04971796e-01\n",
      "  1.02692053e-01  2.85856478e-01  1.34853494e-01  3.45835919e-02\n",
      "  5.34682654e-03 -1.88859365e-03 -3.12459896e-01  5.35568643e-01\n",
      "  2.04685113e-01  1.61949390e-01  4.32131293e-02 -1.83346304e-01\n",
      " -3.17525334e-02 -1.02527098e-01  2.59594218e-01 -1.23851260e-01\n",
      " -2.68030532e-02 -1.33507864e-01  6.27324386e-02 -1.93864019e-01\n",
      " -1.06288712e-02  8.23378871e-02  1.66318996e-01  2.31015719e-02\n",
      " -1.68472116e-01 -1.82147661e-01 -4.20237993e-02  1.79676372e-01\n",
      " -1.80745461e-01 -1.97940312e-01 -1.44713620e-01  1.39853886e-01\n",
      " -1.01514596e-01 -3.42987211e-03  3.55333706e-01 -9.61461277e-02\n",
      "  7.52668777e-02 -1.40978497e-01 -8.55999444e-02 -1.22159210e-01\n",
      "  1.65126077e-01  3.50448000e-01 -1.08942890e-01  5.71326069e-03\n",
      " -3.31927998e-02 -3.83843054e-01  1.06439634e-01  5.98536690e-02\n",
      " -5.63603152e-02 -1.17013042e-01  2.08198750e-02 -6.25212871e-02\n",
      "  1.09709213e-01  1.28454886e-01  2.25946424e-01  2.39512668e-01\n",
      "  1.06501877e-01 -2.58700699e-01 -1.05217419e-01  7.38084893e-02\n",
      "  8.00099810e-02 -1.20327441e-01 -6.60241315e-02  3.93892931e-01\n",
      " -3.56070864e-02 -1.72869217e-01 -1.61074323e-01 -2.89590342e-01\n",
      "  9.39665237e-02 -2.21908070e-01 -4.67744641e-01  5.75157098e-02\n",
      " -2.49826979e-01  1.36179990e-01 -2.53283321e-02 -4.56499194e-01\n",
      " -4.68283423e-02 -3.62505093e-01 -3.03394135e-01  2.88172506e-01\n",
      "  5.95568440e-02 -1.27682643e-02 -4.12396275e-02  3.78416460e-01\n",
      "  2.31189277e-01 -1.12514622e-01  6.78566427e-02  6.95459604e-02\n",
      "  1.02977587e-01 -5.58650359e-02  1.33766034e-01  2.64021624e-01\n",
      "  5.40815448e-03 -1.00391215e-01  1.99438556e-01  2.27454341e-01\n",
      "  1.96708432e-01  4.72568619e-02  3.66637586e-02 -1.53834607e-01\n",
      " -2.76776143e-01 -1.76459846e-02  1.38680675e-01  1.71417887e-01\n",
      "  5.69099503e-02  1.26708431e-01  4.94478311e-02 -1.46890018e-01\n",
      " -3.09577553e-01 -3.18970398e-01 -7.57124111e-03  1.24067703e-01\n",
      "  1.45659500e-01 -2.78038806e-01 -2.12914551e-01 -2.65654952e-02\n",
      "  3.38298218e-01  2.48750598e-01  3.25866034e-01  1.48960734e-02\n",
      "  7.28580552e-02 -3.08432046e-01 -1.41156907e-03 -3.79641708e-02\n",
      "  1.04185657e-01  1.94316204e-01  3.43945164e-01 -7.26483930e-01\n",
      "  2.38277790e-03  2.32611758e-01  1.40808319e-01  2.57403335e-01\n",
      "  9.90227960e-02  4.75468396e-02  4.49426222e-01  2.07995131e-01\n",
      " -1.46592929e-01 -2.73407620e-01 -2.87392653e-01  2.99451843e-01\n",
      "  2.51160763e-02 -6.73119613e-02  1.80634920e-01  8.41182180e-02\n",
      " -6.78594807e-02  2.87814715e-01 -4.36238007e-02 -3.42885933e-01\n",
      " -6.31718735e-02  3.25095653e-02  2.15849881e-03  2.88377629e-01\n",
      " -2.24219829e-02 -1.83329965e-01  3.40637756e-01  1.78698721e-01\n",
      "  9.70405444e-02  6.98862012e-02  3.87543165e-01  2.74418051e-01\n",
      " -2.81383768e-01 -1.70308108e-01 -1.96896663e-01  2.35267203e-01\n",
      " -4.01515467e-01  1.10611927e-02  2.41270536e-01 -1.30708810e-02\n",
      " -4.02021804e-01  1.65832204e-01  1.24043955e-03  1.09095358e-01\n",
      "  1.91697850e-01  7.67655160e-02  2.24429473e-01  1.37216997e-01\n",
      "  4.27252882e-01 -3.36843148e-02 -2.02733049e-01 -6.02872658e-02\n",
      " -2.84289867e-01  7.48014078e-02 -2.16773549e-01  6.49560093e-02\n",
      "  3.42800059e-02  9.43622372e-02 -3.72087726e-01  8.27440051e-03\n",
      "  1.39935146e-01 -1.37872472e-02  9.46133279e-02  2.14105094e-01\n",
      "  2.36878229e-01  4.38037267e-02 -9.40998703e-02  2.38612660e-01\n",
      " -9.50384500e-02  1.33682723e-01 -2.44664826e-02  2.71637334e-02\n",
      "  6.27058237e-02 -3.67403634e-02  2.11224379e-01 -2.17740336e-02\n",
      "  3.26503636e-02 -1.49273570e-01 -2.55046071e-01  7.23211677e-02\n",
      " -5.00826537e-01  2.05315063e-01  6.10820263e-02  9.48964265e-02\n",
      " -4.51973234e-02  5.20246872e-02  8.37180763e-02  2.83905318e-01\n",
      " -7.34985232e-03  1.87730127e-01  4.32897632e-01  2.64483343e-01\n",
      " -1.75337888e-01 -1.34280447e-01 -7.87353774e-02 -1.55396156e-01\n",
      "  2.01946942e-03  1.52182370e-01 -4.46682160e-01  4.98688745e-02\n",
      "  1.81054791e-01  6.86683088e-02  5.52531011e-03 -9.08556896e-02\n",
      " -3.22997351e-01 -5.09261789e-01  2.64530102e-01  1.03498280e-01\n",
      "  7.39087735e-02  1.77437604e-01 -9.89625769e-02 -3.60630563e-01\n",
      " -1.83597396e-01  7.24219524e-02 -2.81486352e-01 -2.56945043e-01\n",
      " -1.51202502e-01  2.28863610e-01  1.36769512e-02  5.01401982e-02\n",
      "  1.54556144e-01  9.33937110e-02  3.53476863e-01 -1.96427485e-01\n",
      " -9.17347699e-02  1.22775899e-01  2.74747903e-01  1.27780621e-01\n",
      " -4.20960183e-01  3.24514193e-01 -6.42493116e-02  2.03342096e-01\n",
      "  3.77565539e-01  1.79827193e-01  1.37669733e-01  1.06322620e-01\n",
      " -3.09434958e-01  2.06923214e-01  1.89602673e-01  5.49447720e-02\n",
      "  2.07399150e-01 -2.87354398e-01  3.44069340e-01  1.91198710e-01\n",
      " -1.90257064e-02 -3.47998423e-01  1.63990548e-01  2.29762391e-02\n",
      " -9.81341693e-02  1.34322740e-01  3.83344638e-02 -1.49204819e-01\n",
      "  7.09251108e-02 -5.94541366e-02  3.14541491e-01  2.97165255e-01\n",
      " -2.11363013e-01  5.22510492e-02  1.87251787e-01 -6.37507042e-02\n",
      " -1.60794520e-03  1.17094659e-01  1.80168709e-01  7.86406668e-03\n",
      "  4.10812403e-03  6.86192631e-02 -3.07547917e-01 -4.07164490e-01\n",
      "  3.69691195e-02  1.13775734e-01 -9.79585605e-02 -8.47036255e-02\n",
      "  1.41259411e-01  2.13494692e-01 -1.06082526e-01  1.18514499e-01\n",
      " -3.47563974e-01 -4.64888204e-02  1.85736339e-01  1.94674655e-01\n",
      " -4.36905721e-02 -1.27056048e-01  1.87149799e-02  1.56951273e-01\n",
      "  1.75462545e-01 -3.40050212e-01  7.85370687e-03 -3.17609583e-01\n",
      "  7.97627324e-02  9.71066998e-04 -1.30035259e-01 -1.16752904e-01\n",
      "  7.64442636e-02  1.57066781e-01 -6.86714767e-02 -6.28491661e-02\n",
      " -3.72452762e-01 -1.45273017e-01 -1.46200975e-01 -1.07823822e-01\n",
      "  1.41907816e-01  1.47046892e-01  1.74494659e-01  3.04259391e-01\n",
      " -1.82118356e-01 -3.05906756e-01 -1.22945368e-02 -4.51351791e-02\n",
      "  9.11922090e-02  2.82823872e-01  1.24763424e-02 -1.22916961e-01\n",
      " -5.87691848e-02  1.28608326e-01  7.15246131e-03 -3.84383399e-01\n",
      " -1.99790308e-02  2.20267604e-01  9.98542714e-02 -1.09633043e-01\n",
      "  8.27706191e-02 -1.41781331e-01 -3.22633318e-02 -2.86162274e-01\n",
      " -4.07958988e-01 -2.18033034e-02  1.76526360e-02 -6.12087978e-02\n",
      " -1.56725381e-01  7.50546266e-02  1.21356710e-01 -2.75608049e-01\n",
      "  2.52375607e-01  8.09172098e-02 -9.40979392e-02 -9.42409245e-02\n",
      " -9.01691573e-02  3.28872117e-01 -1.64715273e-02 -2.38456747e-01\n",
      " -5.33532416e-02 -9.46205234e-03  1.60701543e-01 -8.27806880e-02\n",
      " -2.34774991e-01 -2.49747731e-01 -1.17268477e-01 -7.21434058e-02\n",
      " -2.85377594e-01 -1.44304635e-01  2.56778776e-01 -7.14470603e-01\n",
      " -3.85966491e-02 -1.12759961e-01 -4.15255447e-02  3.08566987e-02\n",
      " -6.13852511e-02  2.86323530e-01 -1.57518575e-01 -2.07855744e-01\n",
      " -3.56935762e-01 -4.67889663e-02 -1.95238782e-01 -2.29515646e-01\n",
      "  1.51479658e-01 -4.83974169e-02 -4.15432862e-01 -4.95546746e-02\n",
      "  3.39045525e-01  3.16746819e-02 -1.44686268e-01  1.92747875e-02\n",
      " -1.65067689e-01 -4.38657652e-02 -2.32663837e-01  3.57485161e-01\n",
      " -3.19337862e-02  1.78100955e-01  1.27384643e-02 -1.95465196e-01\n",
      " -1.82951941e-01  9.57227355e-02  1.67915647e-01  1.78371510e-01\n",
      " -5.05803530e-01 -6.92170498e-02  1.59810528e-01  4.08475925e-01\n",
      "  6.92026249e-02 -4.06022944e-01  2.43199847e-01 -7.71367935e-02\n",
      " -3.22509242e-01 -4.86845290e-02 -2.61836463e-01  9.57745486e-02\n",
      "  2.10125393e-01  9.13944940e-02 -1.26420770e-02  8.48384874e-02\n",
      "  5.60374430e-02 -4.46316415e-03  6.52967732e-02 -1.40450488e-01\n",
      "  9.82004312e-02 -2.84051063e-02  1.17008038e-01 -2.87761241e-01\n",
      " -1.69167630e-02  1.51423037e-01 -2.18026056e-01 -5.92392000e-02\n",
      " -5.35247887e-02  8.05355424e-03 -1.54267518e-01 -5.33744033e-03\n",
      "  8.37441332e-02  3.21066314e-02 -2.28790121e-01  2.35462380e-02\n",
      " -2.97749165e-01 -1.46933920e-01 -2.90555542e-01  1.38699299e-01\n",
      "  1.75551162e-01  3.37118874e-02  1.91838950e-01 -1.97105881e-01\n",
      " -1.77104988e-02 -2.62496632e-02  3.95472736e-01  1.38918014e-01\n",
      " -1.84200836e-01  5.44092925e-02  3.12451798e-01 -2.47148114e-01\n",
      "  2.10120896e-02 -3.52091264e-01  8.07011860e-02  2.73918679e-02\n",
      " -2.15084042e-03 -1.08070554e-01  2.71464028e-01  7.36121071e-02\n",
      " -4.76258178e-02 -1.83517309e-01 -2.69884989e-02  4.06037094e-02\n",
      "  1.36877294e-01  1.36100707e-01 -1.54755251e-01 -1.20786792e-01\n",
      " -5.75546986e-01  1.83159937e-01 -1.50921146e-02 -3.10272191e-02\n",
      " -3.66873754e-01 -1.20242507e-02 -6.23104316e-02  4.58080102e-02\n",
      "  6.67813216e-02 -2.60700180e-01 -1.27953680e-01 -1.03622054e-01\n",
      " -1.73512919e-01 -2.54365377e-01  3.82894461e-02 -1.24560579e-01\n",
      "  1.26205589e-01 -3.27283926e-02  1.67081097e-01  1.20275556e-01\n",
      "  2.63284078e-01  2.62432518e-01 -2.25481554e-01  3.60184297e-01\n",
      " -1.60903870e-02 -1.22941539e-03 -6.21330266e-02  5.43519971e-02]\n"
     ]
    },
    {
     "ename": "ValueError",
     "evalue": "not enough values to unpack (expected 2, got 1)",
     "output_type": "error",
     "traceback": [
      "\u001b[0;31m---------------------------------------------------------------------------\u001b[0m",
      "\u001b[0;31mValueError\u001b[0m                                Traceback (most recent call last)",
      "\u001b[0;32m<ipython-input-132-74c09c41988a>\u001b[0m in \u001b[0;36m<module>\u001b[0;34m\u001b[0m\n\u001b[1;32m     11\u001b[0m \u001b[0mprint\u001b[0m\u001b[0;34m(\u001b[0m\u001b[0mval\u001b[0m\u001b[0;34m)\u001b[0m\u001b[0;34m\u001b[0m\u001b[0;34m\u001b[0m\u001b[0m\n\u001b[1;32m     12\u001b[0m \u001b[0mfig\u001b[0m\u001b[0;34m,\u001b[0m \u001b[0maxis\u001b[0m \u001b[0;34m=\u001b[0m \u001b[0mplt\u001b[0m\u001b[0;34m.\u001b[0m\u001b[0msubplots\u001b[0m\u001b[0;34m(\u001b[0m\u001b[0;36m1\u001b[0m\u001b[0;34m,\u001b[0m\u001b[0;36m1\u001b[0m\u001b[0;34m)\u001b[0m\u001b[0;34m\u001b[0m\u001b[0;34m\u001b[0m\u001b[0m\n\u001b[0;32m---> 13\u001b[0;31m \u001b[0maxis\u001b[0m\u001b[0;34m.\u001b[0m\u001b[0mpcolor\u001b[0m\u001b[0;34m(\u001b[0m\u001b[0mval\u001b[0m\u001b[0;34m,\u001b[0m \u001b[0mcmap\u001b[0m\u001b[0;34m=\u001b[0m\u001b[0;34m'Spectral'\u001b[0m\u001b[0;34m)\u001b[0m\u001b[0;34m\u001b[0m\u001b[0;34m\u001b[0m\u001b[0m\n\u001b[0m",
      "\u001b[0;32m~/anaconda3/lib/python3.7/site-packages/matplotlib/__init__.py\u001b[0m in \u001b[0;36minner\u001b[0;34m(ax, data, *args, **kwargs)\u001b[0m\n\u001b[1;32m   1808\u001b[0m                         \u001b[0;34m\"the Matplotlib list!)\"\u001b[0m \u001b[0;34m%\u001b[0m \u001b[0;34m(\u001b[0m\u001b[0mlabel_namer\u001b[0m\u001b[0;34m,\u001b[0m \u001b[0mfunc\u001b[0m\u001b[0;34m.\u001b[0m\u001b[0m__name__\u001b[0m\u001b[0;34m)\u001b[0m\u001b[0;34m,\u001b[0m\u001b[0;34m\u001b[0m\u001b[0;34m\u001b[0m\u001b[0m\n\u001b[1;32m   1809\u001b[0m                         RuntimeWarning, stacklevel=2)\n\u001b[0;32m-> 1810\u001b[0;31m             \u001b[0;32mreturn\u001b[0m \u001b[0mfunc\u001b[0m\u001b[0;34m(\u001b[0m\u001b[0max\u001b[0m\u001b[0;34m,\u001b[0m \u001b[0;34m*\u001b[0m\u001b[0margs\u001b[0m\u001b[0;34m,\u001b[0m \u001b[0;34m**\u001b[0m\u001b[0mkwargs\u001b[0m\u001b[0;34m)\u001b[0m\u001b[0;34m\u001b[0m\u001b[0;34m\u001b[0m\u001b[0m\n\u001b[0m\u001b[1;32m   1811\u001b[0m \u001b[0;34m\u001b[0m\u001b[0m\n\u001b[1;32m   1812\u001b[0m         inner.__doc__ = _add_data_doc(inner.__doc__,\n",
      "\u001b[0;32m~/anaconda3/lib/python3.7/site-packages/matplotlib/axes/_axes.py\u001b[0m in \u001b[0;36mpcolor\u001b[0;34m(self, alpha, norm, cmap, vmin, vmax, *args, **kwargs)\u001b[0m\n\u001b[1;32m   5716\u001b[0m         \u001b[0malways\u001b[0m \u001b[0mdiscards\u001b[0m \u001b[0mthe\u001b[0m \u001b[0mlast\u001b[0m \u001b[0mrow\u001b[0m \u001b[0;32mand\u001b[0m \u001b[0mcolumn\u001b[0m \u001b[0mof\u001b[0m \u001b[0;34m*\u001b[0m\u001b[0mC\u001b[0m\u001b[0;34m*\u001b[0m\u001b[0;34m.\u001b[0m\u001b[0;34m\u001b[0m\u001b[0;34m\u001b[0m\u001b[0m\n\u001b[1;32m   5717\u001b[0m         \"\"\"\n\u001b[0;32m-> 5718\u001b[0;31m         \u001b[0mX\u001b[0m\u001b[0;34m,\u001b[0m \u001b[0mY\u001b[0m\u001b[0;34m,\u001b[0m \u001b[0mC\u001b[0m \u001b[0;34m=\u001b[0m \u001b[0mself\u001b[0m\u001b[0;34m.\u001b[0m\u001b[0m_pcolorargs\u001b[0m\u001b[0;34m(\u001b[0m\u001b[0;34m'pcolor'\u001b[0m\u001b[0;34m,\u001b[0m \u001b[0;34m*\u001b[0m\u001b[0margs\u001b[0m\u001b[0;34m,\u001b[0m \u001b[0mallmatch\u001b[0m\u001b[0;34m=\u001b[0m\u001b[0;32mFalse\u001b[0m\u001b[0;34m)\u001b[0m\u001b[0;34m\u001b[0m\u001b[0;34m\u001b[0m\u001b[0m\n\u001b[0m\u001b[1;32m   5719\u001b[0m         \u001b[0mNy\u001b[0m\u001b[0;34m,\u001b[0m \u001b[0mNx\u001b[0m \u001b[0;34m=\u001b[0m \u001b[0mX\u001b[0m\u001b[0;34m.\u001b[0m\u001b[0mshape\u001b[0m\u001b[0;34m\u001b[0m\u001b[0;34m\u001b[0m\u001b[0m\n\u001b[1;32m   5720\u001b[0m \u001b[0;34m\u001b[0m\u001b[0m\n",
      "\u001b[0;32m~/anaconda3/lib/python3.7/site-packages/matplotlib/axes/_axes.py\u001b[0m in \u001b[0;36m_pcolorargs\u001b[0;34m(funcname, allmatch, *args)\u001b[0m\n\u001b[1;32m   5522\u001b[0m         \u001b[0;32mif\u001b[0m \u001b[0mlen\u001b[0m\u001b[0;34m(\u001b[0m\u001b[0margs\u001b[0m\u001b[0;34m)\u001b[0m \u001b[0;34m==\u001b[0m \u001b[0;36m1\u001b[0m\u001b[0;34m:\u001b[0m\u001b[0;34m\u001b[0m\u001b[0;34m\u001b[0m\u001b[0m\n\u001b[1;32m   5523\u001b[0m             \u001b[0mC\u001b[0m \u001b[0;34m=\u001b[0m \u001b[0mnp\u001b[0m\u001b[0;34m.\u001b[0m\u001b[0masanyarray\u001b[0m\u001b[0;34m(\u001b[0m\u001b[0margs\u001b[0m\u001b[0;34m[\u001b[0m\u001b[0;36m0\u001b[0m\u001b[0;34m]\u001b[0m\u001b[0;34m)\u001b[0m\u001b[0;34m\u001b[0m\u001b[0;34m\u001b[0m\u001b[0m\n\u001b[0;32m-> 5524\u001b[0;31m             \u001b[0mnumRows\u001b[0m\u001b[0;34m,\u001b[0m \u001b[0mnumCols\u001b[0m \u001b[0;34m=\u001b[0m \u001b[0mC\u001b[0m\u001b[0;34m.\u001b[0m\u001b[0mshape\u001b[0m\u001b[0;34m\u001b[0m\u001b[0;34m\u001b[0m\u001b[0m\n\u001b[0m\u001b[1;32m   5525\u001b[0m             \u001b[0;32mif\u001b[0m \u001b[0mallmatch\u001b[0m\u001b[0;34m:\u001b[0m\u001b[0;34m\u001b[0m\u001b[0;34m\u001b[0m\u001b[0m\n\u001b[1;32m   5526\u001b[0m                 \u001b[0mX\u001b[0m\u001b[0;34m,\u001b[0m \u001b[0mY\u001b[0m \u001b[0;34m=\u001b[0m \u001b[0mnp\u001b[0m\u001b[0;34m.\u001b[0m\u001b[0mmeshgrid\u001b[0m\u001b[0;34m(\u001b[0m\u001b[0mnp\u001b[0m\u001b[0;34m.\u001b[0m\u001b[0marange\u001b[0m\u001b[0;34m(\u001b[0m\u001b[0mnumCols\u001b[0m\u001b[0;34m)\u001b[0m\u001b[0;34m,\u001b[0m \u001b[0mnp\u001b[0m\u001b[0;34m.\u001b[0m\u001b[0marange\u001b[0m\u001b[0;34m(\u001b[0m\u001b[0mnumRows\u001b[0m\u001b[0;34m)\u001b[0m\u001b[0;34m)\u001b[0m\u001b[0;34m\u001b[0m\u001b[0;34m\u001b[0m\u001b[0m\n",
      "\u001b[0;31mValueError\u001b[0m: not enough values to unpack (expected 2, got 1)"
     ]
    },
    {
     "data": {
      "image/png": "[encoded data removed]",
      "text/plain": [
       "<Figure size 432x288 with 1 Axes>"
      ]
     },
     "metadata": {
      "needs_background": "light"
     },
     "output_type": "display_data"
    }
   ],
   "source": [
    "%matplotlib inline\n",
    "from math import pi\n",
    "from matplotlib import pyplot as plt\n",
    "import numpy as np\n",
    "\n",
    "print(\"Part B\")\n",
    "\n",
    "mu, sigma = 0, 0.2 # mean and standard deviation\n",
    "val = np.random.normal(mu, sigma, 1000)\n",
    "\n",
    "fig, axis = plt.subplots(1,1)\n",
    "axis.pcolor(val, cmap='Spectral')\n"
   ]
  },
  {
   "cell_type": "markdown",
   "metadata": {},
   "source": [
    "## Question 4\n",
    "\n",
    "A) Create a plot showing an annual cycle of min (cross blue marker), max (circle red\n",
    "marker), and average (green dashdot line) monthly temperatures of below data. Add x\n",
    "and y labels. Also add horizontal line represent the average temperature yearly.\n",
    "\n",
    "temp_max = [17, 19, 21, 28, 33, 38, 37, 37, 31, 23, 19, 18]\n",
    "\n",
    "temp_min = [-62, -59, -56, -46, -32, -18, -9, -13, -25, -46, -52, -58]\n",
    "\n",
    "\n",
    "B) Define the below function as Python lambda function f\n",
    "\n",
    "y = sin(x) + cos(x) + 2\n",
    "\n",
    "Plot the f function over the interval in red line.\n",
    "Fill the area between curve and x-axis over the interval\n",
    " with green color. Add ticks and\n",
    "for x-axis, and remove all remaining ticks of all other\n",
    "axes.\n",
    "\n",
    "C) Create the below pie chart (Hint, use explode option). Add the title."
   ]
  },
  {
   "cell_type": "code",
   "execution_count": 65,
   "metadata": {},
   "outputs": [
    {
     "name": "stdout",
     "output_type": "stream",
     "text": [
      "Part A\n"
     ]
    },
    {
     "data": {
      "text/plain": [
       "<matplotlib.legend.Legend at 0x7fd63e85fe10>"
      ]
     },
     "execution_count": 65,
     "metadata": {},
     "output_type": "execute_result"
    },
    {
     "data": {
      "image/png": "[encoded data removed]",
      "text/plain": [
       "<Figure size 432x288 with 1 Axes>"
      ]
     },
     "metadata": {
      "needs_background": "light"
     },
     "output_type": "display_data"
    }
   ],
   "source": [
    "%matplotlib inline\n",
    "from math import pi\n",
    "from matplotlib import pyplot as plt\n",
    "import numpy as np\n",
    "\n",
    "print(\"Part A\")\n",
    "months = np.arange(1,13,1)\n",
    "temp_max = np.array(([17, 19, 21, 28, 33, 38, 37, 37, 31, 23, 19, 18]))\n",
    "temp_min = np.array(([-62, -59, -56, -46, -32, -18, -9, -13, -25, -46, -52, -58]))\n",
    "temp_avg = (temp_max + temp_min) / 2\n",
    "year_avg = np.ones(12) * np.mean(temp_avg)\n",
    "                   \n",
    "fig, axis4 = plt.subplots(1,1) # Create a figure\n",
    "\n",
    "axis4.plot(months, temp_min, marker='x', color='blue', label = 'Minimum Temp', linewidth=0)\n",
    "axis4.plot(months, temp_max, marker='o', color='red', label = 'Max Temp', linewidth=0)\n",
    "axis4.plot(months, temp_avg,linestyle='dashdot', color='green', label = 'Avg Monthly Temp', linewidth=2)\n",
    "axis4.plot(months, year_avg, linestyle='solid', color='yellow', label = 'Avg Yearly Temp', linewidth=2)\n",
    "axis4.set_xlabel(\"Months\")\n",
    "axis4.set_ylabel(\"Min and Max Temperature\")\n",
    "\n",
    "axis4.legend(loc='lower right')\n"
   ]
  },
  {
   "cell_type": "code",
   "execution_count": 70,
   "metadata": {},
   "outputs": [
    {
     "ename": "SyntaxError",
     "evalue": "invalid syntax (<ipython-input-70-1e3342a39071>, line 17)",
     "output_type": "error",
     "traceback": [
      "\u001b[0;36m  File \u001b[0;32m\"<ipython-input-70-1e3342a39071>\"\u001b[0;36m, line \u001b[0;32m17\u001b[0m\n\u001b[0;31m    y = np.fromfunction(x, lambda x: sin(x) + cos(x) + 2, (1,1) dtype=float)\u001b[0m\n\u001b[0m                                                                    ^\u001b[0m\n\u001b[0;31mSyntaxError\u001b[0m\u001b[0;31m:\u001b[0m invalid syntax\n"
     ]
    }
   ],
   "source": [
    "%matplotlib inline\n",
    "from math import pi\n",
    "from matplotlib import pyplot as plt\n",
    "import numpy as np\n",
    "\n",
    "print(\"Part B\")\n",
    "\n",
    "# B) Define the below function as Python lambda function f\n",
    "#     y = sin(x) + cos(x) + 2\n",
    "# Plot the f function over the interval x=[0,2pi] in red line.\n",
    "# Fill the area between curve and x-axis over the interval x=[pi/2 and 3pi/2]\n",
    "# with green color. Add ticks pi/2 and 3pi/2\n",
    "# for x-axis, and remove all remaining ticks of all other\n",
    "# axes. \n",
    "\n",
    "x = np.arange(0, 2*pi, 0.1)\n",
    "y = np.fromfunction(x, lambda x: sin(x) + cos(x) + 2, (1,1) dtype=float)\n",
    "fig, axis = plt.subplots(1,1) # Create a figure\n",
    "axis.plot(x, y, linewidth=2)\n"
   ]
  },
  {
   "cell_type": "code",
   "execution_count": null,
   "metadata": {},
   "outputs": [],
   "source": []
  }
 ],
 "metadata": {
  "kernelspec": {
   "display_name": "Python 3",
   "language": "python",
   "name": "python3"
  },
  "language_info": {
   "codemirror_mode": {
    "name": "ipython",
    "version": 3
   },
   "file_extension": ".py",
   "mimetype": "text/x-python",
   "name": "python",
   "nbconvert_exporter": "python",
   "pygments_lexer": "ipython3",
   "version": "3.7.3"
  }
 },
 "nbformat": 4,
 "nbformat_minor": 2
}
