{
 "cells": [
  {
   "cell_type": "markdown",
   "metadata": {},
   "source": [
    "# Assignment 1\n",
    "### Carlos Dasaed Salcedo Carreno\n",
    "### cdsalcedo@mun.ca\n",
    "### 201892008\n",
    "\n",
    "\n",
    "## Question 1:\n",
    "\n",
    "A) Generate a 1D NumPy array nparray1D containing numbers from -10 to 10 in\n",
    "increments of 0.2.\n",
    "\n",
    "B) Make another 2D NumPy array 5x11 called nparray2D containing even numbers\n",
    "equally spaced values between 2 and 112.\n",
    "\n",
    "C) Write a function called k_sum which takes input parameters k and N and returns the\n",
    "partial sum  from n=2 to N, sum 2/( (n^k) +1)\n",
    " Don't use loops.\n",
    "\n",
    "D) A magic square is a matrix all of whose row sums, column sums and the sums of the\n",
    "two diagonals are the same. (One diagonal of a matrix goes from the top left to the\n",
    "bottom right, the other diagonal goes from top right to bottom left.). Define function to\n",
    "verify that the matrix is a magic square or not. Hints: The function np.diag extracts\n",
    "the diagonal of a matrix, and the function np.fliplr extracts the other diagonal. Don’t\n",
    "use loops."
   ]
  },
  {
   "cell_type": "code",
   "execution_count": 7,
   "metadata": {},
   "outputs": [
    {
     "name": "stdout",
     "output_type": "stream",
     "text": [
      "Part A\n",
      "[-1.00000000e+01 -9.80000000e+00 -9.60000000e+00 -9.40000000e+00\n",
      " -9.20000000e+00 -9.00000000e+00 -8.80000000e+00 -8.60000000e+00\n",
      " -8.40000000e+00 -8.20000000e+00 -8.00000000e+00 -7.80000000e+00\n",
      " -7.60000000e+00 -7.40000000e+00 -7.20000000e+00 -7.00000000e+00\n",
      " -6.80000000e+00 -6.60000000e+00 -6.40000000e+00 -6.20000000e+00\n",
      " -6.00000000e+00 -5.80000000e+00 -5.60000000e+00 -5.40000000e+00\n",
      " -5.20000000e+00 -5.00000000e+00 -4.80000000e+00 -4.60000000e+00\n",
      " -4.40000000e+00 -4.20000000e+00 -4.00000000e+00 -3.80000000e+00\n",
      " -3.60000000e+00 -3.40000000e+00 -3.20000000e+00 -3.00000000e+00\n",
      " -2.80000000e+00 -2.60000000e+00 -2.40000000e+00 -2.20000000e+00\n",
      " -2.00000000e+00 -1.80000000e+00 -1.60000000e+00 -1.40000000e+00\n",
      " -1.20000000e+00 -1.00000000e+00 -8.00000000e-01 -6.00000000e-01\n",
      " -4.00000000e-01 -2.00000000e-01 -3.55271368e-14  2.00000000e-01\n",
      "  4.00000000e-01  6.00000000e-01  8.00000000e-01  1.00000000e+00\n",
      "  1.20000000e+00  1.40000000e+00  1.60000000e+00  1.80000000e+00\n",
      "  2.00000000e+00  2.20000000e+00  2.40000000e+00  2.60000000e+00\n",
      "  2.80000000e+00  3.00000000e+00  3.20000000e+00  3.40000000e+00\n",
      "  3.60000000e+00  3.80000000e+00  4.00000000e+00  4.20000000e+00\n",
      "  4.40000000e+00  4.60000000e+00  4.80000000e+00  5.00000000e+00\n",
      "  5.20000000e+00  5.40000000e+00  5.60000000e+00  5.80000000e+00\n",
      "  6.00000000e+00  6.20000000e+00  6.40000000e+00  6.60000000e+00\n",
      "  6.80000000e+00  7.00000000e+00  7.20000000e+00  7.40000000e+00\n",
      "  7.60000000e+00  7.80000000e+00  8.00000000e+00  8.20000000e+00\n",
      "  8.40000000e+00  8.60000000e+00  8.80000000e+00  9.00000000e+00\n",
      "  9.20000000e+00  9.40000000e+00  9.60000000e+00  9.80000000e+00]\n",
      "Part B\n"
     ]
    }
   ],
   "source": [
    "import numpy as np\n",
    "\n",
    "print(\"Part A\")\n",
    "a = np.arange(-10,10,0.2)\n",
    "print(a)\n"
   ]
  },
  {
   "cell_type": "code",
   "execution_count": 11,
   "metadata": {},
   "outputs": [
    {
     "name": "stdout",
     "output_type": "stream",
     "text": [
      "Part B\n",
      "[[  2   4   6   8  10  12  14  16  18  20  22]\n",
      " [ 24  26  28  30  32  34  36  38  40  42  44]\n",
      " [ 46  48  50  52  54  56  58  60  62  64  66]\n",
      " [ 68  70  72  74  76  78  80  82  84  86  88]\n",
      " [ 90  92  94  96  98 100 102 104 106 108 110]]\n"
     ]
    }
   ],
   "source": [
    "import numpy as np\n",
    "print(\"Part B\")\n",
    "nparray2d = np.arange(2,112,2).reshape(5,11)\n",
    "print(nparray2d)\n"
   ]
  },
  {
   "cell_type": "code",
   "execution_count": 38,
   "metadata": {},
   "outputs": [
    {
     "name": "stdout",
     "output_type": "stream",
     "text": [
      "Part C\n",
      "6.028812647620697\n"
     ]
    }
   ],
   "source": [
    "import numpy as np\n",
    "print(\"Part C\")\n",
    "\n",
    "def k_sum(k, N):\n",
    "    return  np.sum(2 / ((np.arange(2,N)^k) +1))\n",
    "    #kval = np.arange(2,n,dtype=float)\n",
    "    #kval2 = np.fromfunction(lambda x: 2/( (x^k) +1), (1,n), dtype=float)\n",
    "    #sum 2/( (n^k) +1)\n",
    "\n",
    "print(k_sum(3,20))\n"
   ]
  },
  {
   "cell_type": "code",
   "execution_count": 69,
   "metadata": {},
   "outputs": [
    {
     "name": "stdout",
     "output_type": "stream",
     "text": [
      "Part D\n",
      "True\n",
      "True\n",
      "False\n"
     ]
    }
   ],
   "source": [
    "import numpy as np\n",
    "print(\"Part D\")\n",
    "def magicsquare(matrix):\n",
    "    rows = np.sum(matrix,axis=0)\n",
    "    cols = np.sum(matrix,axis=1)\n",
    "    diag1 = np.sum(np.diag(matrix))\n",
    "    diag2 = np.sum(np.diag(np.fliplr(matrix)))\n",
    "    return ((diag1==diag2) and (diag1==rows[0]) and np.array_equal(rows,cols))\n",
    "\n",
    "example1 = np.array(([2,7,6],[9,5,1],[4,3,8]))\n",
    "example2 = np.array(([8,1,6],[3,5,7],[4,9,2]))\n",
    "example3 = np.array(([8,1,2],[1,5,7],[4,9,2]))\n",
    "\n",
    "print(magicsquare(example1))\n",
    "print(magicsquare(example2))\n",
    "print(magicsquare(example3))"
   ]
  },
  {
   "cell_type": "markdown",
   "metadata": {},
   "source": [
    "## Question 2:\n",
    "\n",
    "\n",
    "A) Plot a sine function in red with a dashed line\n",
    "style, a cosin function in blue solid line, and the\n",
    "legend. Then fill the area between the two\n",
    "functions with yellow color if sine > cosine and\n",
    "green color if cosine > sine. The x-limits are\n",
    "between 0 and 10, whereas the y-limit is\n",
    "between -1 and 1. (Hint: use plt.fill_between)\n",
    "\n",
    "\n",
    "B) On a new figure plot a exp function in green,\n",
    "add second y-axis (Hint, use plt.twinx) and plot\n",
    "an exponential function on a y-logscale in red\n",
    "(Hint, use plt.semilogy). Add a title, and labels\n",
    "in fontsize 25 and in green and in red for\n",
    "second y axis."
   ]
  },
  {
   "cell_type": "code",
   "execution_count": null,
   "metadata": {},
   "outputs": [],
   "source": []
  }
 ],
 "metadata": {
  "kernelspec": {
   "display_name": "Python 3",
   "language": "python",
   "name": "python3"
  },
  "language_info": {
   "codemirror_mode": {
    "name": "ipython",
    "version": 3
   },
   "file_extension": ".py",
   "mimetype": "text/x-python",
   "name": "python",
   "nbconvert_exporter": "python",
   "pygments_lexer": "ipython3",
   "version": "3.7.3"
  }
 },
 "nbformat": 4,
 "nbformat_minor": 2
}
