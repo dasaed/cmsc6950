{
 "cells": [
  {
   "cell_type": "markdown",
   "metadata": {},
   "source": [
    "# Numpy Lessons\n",
    "\n",
    "## Why numpy is faster than just lists"
   ]
  },
  {
   "cell_type": "code",
   "execution_count": 3,
   "metadata": {},
   "outputs": [
    {
     "name": "stdout",
     "output_type": "stream",
     "text": [
      "575 µs ± 7.22 µs per loop (mean ± std. dev. of 7 runs, 1000 loops each)\n",
      "2.79 µs ± 162 ns per loop (mean ± std. dev. of 7 runs, 100000 loops each)\n"
     ]
    }
   ],
   "source": [
    "import numpy as np\n",
    "\n",
    "R = range(1000)\n",
    "%timeit [ i**2 for i in R ]\n",
    "\n",
    "a = np.arange(1000)\n",
    "%timeit  a**2 "
   ]
  },
  {
   "cell_type": "markdown",
   "metadata": {},
   "source": [
    "## Creating Arrays\n",
    "\n",
    "### Types of arrays you can create\n",
    "side note: you can give numpy the dtype option to specify how to fill out the array. By default, arrays are created with float numbers. Type of arrays you can create:\n",
    "\n",
    "* Manually filled values\n",
    "  * np.array(([],[],...,[])) # where [] is a list or a single element. \n",
    "* Array filled with zeros\n",
    "  * np.zeros((row,col))\n",
    "* Array filled with ones\n",
    "  * np.ones((row,col))\n",
    "* Array with a range\n",
    "  * np.arange(start, end, step) # step is optional\n",
    "* Array with only the diagnogal being filled\n",
    "  * np.diag(np.array([val1,val2,...,valn]))\n",
    "* Array with with evenly spaced elements\n",
    "  * np.linspace(start,end,elements in between)\n",
    "* Array with all elements the same value\n",
    "  * np.full((row,col),val)\n",
    "* Identity Matrix\n",
    "  * np.eye((4)) # 4 = number of cols and rows\n",
    "* Empty Array\n",
    "  * np.empty((2,3))\n",
    "* Array with random values\n",
    "  * np.random.random((row,col)) # all values will be between 0 and 1"
   ]
  },
  {
   "cell_type": "code",
   "execution_count": 11,
   "metadata": {},
   "outputs": [
    {
     "name": "stdout",
     "output_type": "stream",
     "text": [
      "#############################################\n",
      "Manually fill the Array\n",
      "[[1. 2. 3.]\n",
      " [4. 5. 6.]]\n",
      "#############################################\n",
      "Array with all zeros\n",
      "[[0. 0. 0.]\n",
      " [0. 0. 0.]]\n",
      "#############################################\n",
      "Array with all ones\n",
      "[[1. 1. 1.]\n",
      " [1. 1. 1.]]\n",
      "#############################################\n",
      "Array with a range\n",
      "[ 2  4  6  8 10 12 14 16 18]\n",
      "#############################################\n",
      "Array with only the diagnogal filled\n",
      "[[1 0 0 0]\n",
      " [0 2 0 0]\n",
      " [0 0 3 0]\n",
      " [0 0 0 4]]\n",
      "#############################################\n",
      "Evenly spaced elements\n",
      "[2.   2.25 2.5  2.75 3.  ]\n",
      "#############################################\n",
      "All values the same\n",
      "[['ABC' 'ABC' 'ABC']\n",
      " ['ABC' 'ABC' 'ABC']]\n",
      "#############################################\n",
      "Identity Matrix\n",
      "[[1. 0. 0.]\n",
      " [0. 1. 0.]\n",
      " [0. 0. 1.]]\n",
      "#############################################\n",
      "Empty Array\n",
      "[[1. 1. 1.]\n",
      " [1. 1. 1.]]\n",
      "#############################################\n",
      "Array with random values\n",
      "[[0.33315358 0.2275536  0.64622335]\n",
      " [0.57272133 0.47918693 0.39253487]]\n"
     ]
    }
   ],
   "source": [
    "print(\"#############################################\")\n",
    "print(\"Manually fill the Array\")\n",
    "sample = np.array(([1,2,3],[4,5,6]), dtype=np.float16)# 3D array, # dtype desired data type of array, optional\n",
    "print(sample)\n",
    "\n",
    "print(\"#############################################\")\n",
    "print(\"Array with all zeros\")\n",
    "sample = np.zeros((2,3))\n",
    "print(sample)\n",
    "\n",
    "print(\"#############################################\")\n",
    "print(\"Array with all ones\")\n",
    "sample = np.ones((2,3))\n",
    "print(sample)\n",
    "\n",
    "print(\"#############################################\")\n",
    "print(\"Array with a range\")\n",
    "sample = np.arange(2,20,2)\n",
    "print(sample)\n",
    "\n",
    "print(\"#############################################\")\n",
    "print(\"Array with only the diagnogal filled\")\n",
    "sample = np.diag(np.array([1,2,3,4]))\n",
    "print(sample)\n",
    "\n",
    "print(\"#############################################\")\n",
    "print(\"Evenly spaced elements\")\n",
    "sample = np.linspace(2,3,5)\n",
    "print(sample)\n",
    "\n",
    "print(\"#############################################\")\n",
    "print(\"All values the same\")\n",
    "sample = np.full((2,3),\"ABC\")\n",
    "print(sample)\n",
    "\n",
    "\n",
    "print(\"#############################################\")\n",
    "print(\"Identity Matrix\")\n",
    "sample = np.eye((3))\n",
    "print(sample)\n",
    "\n",
    "print(\"#############################################\")\n",
    "print(\"Empty Array\")\n",
    "sample = np.empty((2,3))\n",
    "print(sample)\n",
    "\n",
    "print(\"#############################################\")\n",
    "print(\"Array with random values\")\n",
    "sample = np.random.random((2,3))\n",
    "print(sample)\n",
    "\n"
   ]
  },
  {
   "cell_type": "markdown",
   "metadata": {},
   "source": [
    "### Class Example 1 "
   ]
  },
  {
   "cell_type": "code",
   "execution_count": null,
   "metadata": {},
   "outputs": [],
   "source": [
    "a = np.array(([1,2,3],[4,5,6], [7,8,9]))\n",
    "\n",
    "a[0,0]    # => 1\n",
    "a[1,2]    # => 6\n",
    "a[1,:]    # => array([4, 5, 6])  # : means all columns\n",
    "a[1,1:2]  # => array([5])        # 1:2 means column 1\n",
    "a[1,1:]   # => array([5, 6])     # 1: means from column 1 to end\n",
    "a[:,1]    # => array([2, 5, 8])  # : means all rows\n",
    "a[1:,1:2] # => array([[5],\n",
    "          #           [8]])\n",
    "a[::2,:]  # start:end:stepsize => array([[1, 2, 3],\n",
    "          #                              [7, 8, 9]])\n",
    "a[::-1,:] # start:end:-1 => reverse    => array([[7, 8, 9],\n",
    "          #                                      [4, 5, 6],\n",
    "          #                                      [1, 2, 3]])"
   ]
  },
  {
   "cell_type": "markdown",
   "metadata": {},
   "source": [
    "### Class Example 2"
   ]
  },
  {
   "cell_type": "code",
   "execution_count": 6,
   "metadata": {},
   "outputs": [
    {
     "name": "stdout",
     "output_type": "stream",
     "text": [
      "a.shape = (3, 4)\n",
      "len(a) = 3\n",
      "a.ndim = 2\n",
      "a.size = 12\n",
      "a.dtype = int64\n",
      "a.itemsize = 8\n"
     ]
    }
   ],
   "source": [
    "a = np.array([[0, 1, 2, 3], [4, 5, 6, 7], [8, 9, 10, 11]])    # 3 x 4 array\n",
    "print(\"a.shape =\", a.shape)\n",
    "print(\"len(a) =\", len(a))\n",
    "print(\"a.ndim =\", a.ndim)\n",
    "print(\"a.size =\", a.size)\n",
    "print(\"a.dtype =\", a.dtype)\n",
    "print(\"a.itemsize =\", a.itemsize)"
   ]
  },
  {
   "cell_type": "code",
   "execution_count": null,
   "metadata": {},
   "outputs": [],
   "source": [
    "### Other libraries built with numpy\n",
    "\n",
    "SciPy # for more complex math problems (integrals, differential equations)\n",
    "SymPy # for math symbols\n",
    "statsmodels # for statistics\n",
    "scikit-learn # Machine learning"
   ]
  }
 ],
 "metadata": {
  "kernelspec": {
   "display_name": "Python 3",
   "language": "python",
   "name": "python3"
  },
  "language_info": {
   "codemirror_mode": {
    "name": "ipython",
    "version": 3
   },
   "file_extension": ".py",
   "mimetype": "text/x-python",
   "name": "python",
   "nbconvert_exporter": "python",
   "pygments_lexer": "ipython3",
   "version": "3.7.3"
  }
 },
 "nbformat": 4,
 "nbformat_minor": 2
}
