{
 "cells": [
  {
   "cell_type": "markdown",
   "metadata": {},
   "source": [
    "# Assignment 2\n",
    "## By: Carlos Dasaed Salcedo Carreno\n",
    "## ID: 201892008\n",
    "\n",
    "### 1. Write a function “within_Hundred”. Given an integer n, return True if it is within 100 of 200 or -200. \n",
    "Note: abs() computes the absolute value of a number.\n",
    "For example,\n",
    "within_Hundred(250) → True\n",
    "within_Hundred(125) → True\n",
    "within_Hundred(-125) → True\n",
    "within_Hundred(-325) → False\n",
    "\n",
    "\n",
    "-200 -200 = -400\n",
    "-100 -200 = -300"
   ]
  },
  {
   "cell_type": "code",
   "execution_count": 35,
   "metadata": {},
   "outputs": [
    {
     "name": "stdout",
     "output_type": "stream",
     "text": [
      "True\n",
      "True\n",
      "True\n",
      "False\n"
     ]
    }
   ],
   "source": [
    "def within_Hundred(num):\n",
    "    return ( abs(num)-100 >= 0 and abs(num) <= 300) \n",
    "\n",
    "    \n",
    "print(within_Hundred(250))\n",
    "print(within_Hundred(125))\n",
    "print(within_Hundred(-125)) \n",
    "print(within_Hundred(-325))"
   ]
  },
  {
   "cell_type": "markdown",
   "metadata": {},
   "source": [
    "### 2. Write a function “name_in_window” that displays a full name inside of box of characters formed by hyphens, vertical bars, and plus symbols.\n",
    "For example,\n",
    "       name_in_window(“Ibrahim Awad”) →      +***********+\n",
    "                                            | Ibrahim Awad |\n",
    "                                            +***********+"
   ]
  },
  {
   "cell_type": "code",
   "execution_count": 19,
   "metadata": {},
   "outputs": [
    {
     "name": "stdout",
     "output_type": "stream",
     "text": [
      "+-------------------------------+\n",
      "| Carlos Dasaed Salcedo Carreno |\n",
      "+-------------------------------+\n"
     ]
    }
   ],
   "source": [
    "def name_in_window(name):\n",
    "    top=\"\"\n",
    "    cname=\"\"\n",
    "    for c in name:\n",
    "        top+=\"-\"\n",
    "        cname+=c\n",
    "    result = \"+-\"+top+\"-+\\n| \"+cname+\" |\\n+-\"+top+\"-+\"\n",
    "    return result\n",
    "\n",
    "\n",
    "print(name_in_window(\"Carlos Dasaed Salcedo Carreno\"))\n",
    "\n"
   ]
  },
  {
   "cell_type": "markdown",
   "metadata": {},
   "source": [
    "### 3. Write a function “is_divisible_five”. Given 3 integers, a, b, and c, return True if one of them is divisible by 5 or if their sum is divisible by 5.\n",
    "For example,\n",
    "is_divisible_five(3,4,5) → True\n",
    "is_divisible_five(6,3,11) → True\n",
    "is_divisible_five(9,4,2) → False"
   ]
  },
  {
   "cell_type": "code",
   "execution_count": 24,
   "metadata": {},
   "outputs": [
    {
     "name": "stdout",
     "output_type": "stream",
     "text": [
      "True\n",
      "True\n",
      "False\n"
     ]
    }
   ],
   "source": [
    "def is_divisible_five(a,b,c):\n",
    "    return a%5==0 or b%5==0 or c%5==0 or (a+b+c)%5 ==0\n",
    "\n",
    "    \n",
    "print(is_divisible_five(3,4,5))\n",
    "print(is_divisible_five(6,3,11))\n",
    "print(is_divisible_five(9,4,3))"
   ]
  },
  {
   "cell_type": "markdown",
   "metadata": {},
   "source": [
    "### 4. Write a function “reverse_list”. Given a list of integers, return a new list with the elements in reverse order.\n",
    "For example,\n",
    "\n",
    "reverse_list([1, 2, 3]) → [3, 2, 1]\n",
    "\n",
    "reverse_list([5, 8, 3, 2, 6]) → [6, 2, 3, 8, 5]."
   ]
  },
  {
   "cell_type": "code",
   "execution_count": 34,
   "metadata": {},
   "outputs": [
    {
     "name": "stdout",
     "output_type": "stream",
     "text": [
      "[3, 2, 1]\n",
      "[6, 2, 3, 8, 5]\n"
     ]
    }
   ],
   "source": [
    "def reverse_list(list):\n",
    "    return list[::-1]\n",
    "print(reverse_list([1, 2, 3])) # [3, 2, 1]\n",
    "print(reverse_list([5, 8, 3, 2, 6])) # [6, 2, 3, 8, 5]."
   ]
  },
  {
   "cell_type": "markdown",
   "metadata": {},
   "source": [
    "### 5. Write a function “bmi”. Given the height (meter) and weight (Kg). The function should report the BMI and BMI Category\n",
    "Body mass index (BMI) is a measure of body fat for adult men and women based on height\n",
    "(meter) and weight (Kg)\n",
    "BMI= Weight/ (Height ^ 2)\n",
    "BMI Categories:\n",
    "* Underweight = <18.5\n",
    "* Normal weight = 18.5 to less than 25\n",
    "* Overweight = 25 to less than 30\n",
    "* Obesity = BMI of 30 or greater\n",
    "\n",
    "Example.\n",
    "bmi(1.86, 95) → Your BMI is 27.5 which classifies you as overweight.\n"
   ]
  },
  {
   "cell_type": "code",
   "execution_count": 45,
   "metadata": {},
   "outputs": [
    {
     "name": "stdout",
     "output_type": "stream",
     "text": [
      "Your BMI is 18.37 which classifies you as underweight\n",
      "Your BMI is 22.04 which classifies you as normal weight\n",
      "Your BMI is 25.71 which classifies you as overweight\n",
      "Your BMI is 31.22 which classifies you as obese\n",
      "Your BMI is 27.46 which classifies you as overweight\n"
     ]
    }
   ],
   "source": [
    "def bmi(height, weight):\n",
    "    bmi=round((weight/(height**2)),2)\n",
    "    if bmi < 18.5:\n",
    "        return \"Your BMI is \"+str(bmi)+\" which classifies you as underweight\"\n",
    "    elif bmi >= 18.5 and bmi < 25:\n",
    "        return \"Your BMI is \"+str(bmi)+\" which classifies you as normal weight\"\n",
    "    elif bmi >= 25 and bmi < 30:\n",
    "        return \"Your BMI is \"+str(bmi)+\" which classifies you as overweight\"\n",
    "    else:\n",
    "        return \"Your BMI is \"+str(bmi)+\" which classifies you as obese\"\n",
    "\n",
    "    \n",
    "print(bmi(1.65, 50))\n",
    "print(bmi(1.65, 60))\n",
    "print(bmi(1.65, 70))\n",
    "print(bmi(1.65, 85))\n",
    "print(bmi(1.86, 95))"
   ]
  },
  {
   "cell_type": "markdown",
   "metadata": {},
   "source": [
    "### 6. Given three integers, a b c, one of them is small, one is medium, and one is large. Return true if\n",
    "the three values are evenly spaced, so the difference between small and medium is the same as\n",
    "the difference between medium and large.\n",
    "Example,\n",
    "evenlySpaced(2, 4, 6) → true\n",
    "evenlySpaced(4, 6, 2) → true\n",
    "evenlySpaced(4, 6, 3) → false"
   ]
  },
  {
   "cell_type": "code",
   "execution_count": 50,
   "metadata": {},
   "outputs": [
    {
     "name": "stdout",
     "output_type": "stream",
     "text": [
      "True\n",
      "True\n",
      "False\n"
     ]
    }
   ],
   "source": [
    "def evenlySpaced(a,b,c):\n",
    "    list = [a,b,c]\n",
    "    list.sort()\n",
    "    return abs(list[0]-list[1]) == abs(list[2]-list[1])\n",
    "\n",
    "print(evenlySpaced(2, 4, 6)) \n",
    "print(evenlySpaced(4, 6, 2))\n",
    "print(evenlySpaced(4, 6, 3))"
   ]
  },
  {
   "cell_type": "markdown",
   "metadata": {},
   "source": [
    "### 7. Your task is to define a function “make_third_person” which given a verb in infinitive form returns its third person singular form. However, you must not expect such simple rules to work for all cases.\n",
    "The third person singular verb form in English is distinguished by the suffix -s, which is added\n",
    "to the stem of the infinitive form: run → runs. A simple set of rules can be given as follows:\n",
    "* If the verb ends in y, remove it and add ies\n",
    "* If the verb ends in o, ch, s, sh, x or z, add es\n",
    "* By default, just add s\n",
    "\n",
    "Example,\n",
    "make_third_person (“miss”) → misses\n",
    "make_third_person (“veto”) → vetoes\n",
    "make_third_person (“rely “) → relies\n",
    "make_third_person (“worry”) → worries"
   ]
  },
  {
   "cell_type": "code",
   "execution_count": 70,
   "metadata": {},
   "outputs": [
    {
     "name": "stdout",
     "output_type": "stream",
     "text": [
      "misses\n",
      "vetoes\n",
      "relies\n",
      "worries\n",
      "has\n",
      "is\n",
      "enjoys\n",
      "sees\n"
     ]
    }
   ],
   "source": [
    "def make_third_person(verb):\n",
    "    verb.lower()\n",
    "    if verb == \"have\" or verb == \"has\":\n",
    "        return \"has\"\n",
    "    elif verb == \"be\" or verb == \"to be\":\n",
    "        return \"is\"\n",
    "    elif verb[-2:] in [\"ch\",\"sh\"] or verb[-1:] in [\"s\",\"x\",\"z\",\"o\"]:\n",
    "        return verb+\"es\"\n",
    "    elif verb[-2] in [\"a\",\"e\",\"i\",\"o\",\"u\"] and verb[-1:] == \"y\":\n",
    "        return verb+\"s\"\n",
    "    elif verb[-1:] == \"y\":\n",
    "        return verb[:-1]+\"ies\"\n",
    "    else:\n",
    "        return verb+\"s\"\n",
    "\n",
    "\n",
    "print(make_third_person(\"miss\"))\n",
    "print(make_third_person(\"veto\")) \n",
    "print(make_third_person(\"rely\"))  \n",
    "print(make_third_person(\"worry\")) \n",
    "print(make_third_person(\"have\")) \n",
    "print(make_third_person(\"be\")) \n",
    "print(make_third_person(\"enjoy\"))\n",
    "print(make_third_person(\"see\")) "
   ]
  },
  {
   "cell_type": "code",
   "execution_count": null,
   "metadata": {},
   "outputs": [],
   "source": []
  }
 ],
 "metadata": {
  "kernelspec": {
   "display_name": "Python 3",
   "language": "python",
   "name": "python3"
  },
  "language_info": {
   "codemirror_mode": {
    "name": "ipython",
    "version": 3
   },
   "file_extension": ".py",
   "mimetype": "text/x-python",
   "name": "python",
   "nbconvert_exporter": "python",
   "pygments_lexer": "ipython3",
   "version": "3.7.3"
  }
 },
 "nbformat": 4,
 "nbformat_minor": 2
}
