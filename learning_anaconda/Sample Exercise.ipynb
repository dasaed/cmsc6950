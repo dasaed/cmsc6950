{
 "cells": [
  {
   "cell_type": "markdown",
   "metadata": {},
   "source": [
    "# Sample Exercise\n",
    "## Created by: Carlos Salcedo"
   ]
  },
  {
   "cell_type": "code",
   "execution_count": 1,
   "metadata": {},
   "outputs": [
    {
     "name": "stdout",
     "output_type": "stream",
     "text": [
      "Hello\n"
     ]
    }
   ],
   "source": [
    "class User:\n",
    "    def __init__(self,name,type,userid):\n",
    "        self.type = type\n",
    "        self.name = name\n",
    "        self.userid = userid\n",
    "\n",
    "        \n",
    "class Post:\n",
    "    def __init__(self,post,creator):\n",
    "        self.post = post\n",
    "        self.creator = creator\n",
    "        self.approvals = {}\n",
    "        \n",
    "    def approved():\n",
    "        if self.approvals.isEmpty():\n",
    "            return False\n",
    "        else:\n",
    "            for key,val in self.approvals:\n",
    "                if val is \"False\":\n",
    "                    return \"Post Rejected by user \"+str(key)\n",
    "            "
   ]
  },
  {
   "cell_type": "code",
   "execution_count": 2,
   "metadata": {},
   "outputs": [
    {
     "name": "stdout",
     "output_type": "stream",
     "text": [
      "hello_anaconda.py  MyFirstAnacondaNotebook.ipynb  Untitled.ipynb\r\n"
     ]
    }
   ],
   "source": []
  },
  {
   "cell_type": "code",
   "execution_count": null,
   "metadata": {},
   "outputs": [],
   "source": []
  }
 ],
 "metadata": {
  "kernelspec": {
   "display_name": "Python 3",
   "language": "python",
   "name": "python3"
  },
  "language_info": {
   "codemirror_mode": {
    "name": "ipython",
    "version": 3
   },
   "file_extension": ".py",
   "mimetype": "text/x-python",
   "name": "python",
   "nbconvert_exporter": "python",
   "pygments_lexer": "ipython3",
   "version": "3.7.3"
  }
 },
 "nbformat": 4,
 "nbformat_minor": 2
}
