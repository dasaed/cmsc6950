{
 "cells": [
  {
   "cell_type": "markdown",
   "metadata": {},
   "source": [
    "# Sample Exercise\n",
    "### Created by: Carlos Salcedo\n",
    "\n",
    "The task I was asked to do was to simulate a case where a user wants to publish a post, but needs approval from a second, or more users. In this example there is no need to connect to external database or to servers, or to permanent places(ie files). It is supposed to be done in memory, and with the basic python packages.\n",
    "\n",
    "1) First, we create a user and post class. This would simulate our data base"
   ]
  },
  {
   "cell_type": "code",
   "execution_count": 5,
   "metadata": {},
   "outputs": [],
   "source": [
    "class User:\n",
    "    def __init__(self,name,type):\n",
    "        self.type = type\n",
    "        self.name = name\n",
    "        \n",
    "class Post:\n",
    "    def __init__(self,post,creator):\n",
    "        self.post = post\n",
    "        self.creator = creator\n",
    "        self.approvals = {}\n",
    "        \n",
    "    def approved(self):\n",
    "        rejections = []\n",
    "        for key,val in self.approvals.items():\n",
    "            if val is False:\n",
    "                rejections.append(key)\n",
    "        if rejections:\n",
    "            return \"The post has been rejected by \"+str(rejections)\n",
    "        else:\n",
    "            return \"The post has been approved\""
   ]
  },
  {
   "cell_type": "markdown",
   "metadata": {},
   "source": [
    "2) Now we initiate user 1 a.k.a the Post creator"
   ]
  },
  {
   "cell_type": "code",
   "execution_count": 6,
   "metadata": {
    "scrolled": false
   },
   "outputs": [
    {
     "name": "stdout",
     "output_type": "stream",
     "text": [
      "Please input your username: Alpha\n",
      "Please enter your post: \n",
      "This is a sample post.\n",
      "Would you like to submit this post for approval? Y or N \n",
      "y\n"
     ]
    }
   ],
   "source": [
    "user1name=input(\"Please input your username: \")\n",
    "user1post=input(\"Please enter your post: \\n\")\n",
    "user1approval=input(\"Would you like to submit this post for approval? Y or N \\n\")\n",
    "\n",
    "user1 = User(user1name,\"Author\")\n",
    "post1 = Post(user1post,user1.name)\n",
    "\n",
    "if user1approval is \"Y\" or user1approval is \"y\":\n",
    "    post1.approvals[user1.name] = True\n",
    "else:\n",
    "    post1.approvals[user1.name] = False\n",
    "\n"
   ]
  },
  {
   "cell_type": "markdown",
   "metadata": {},
   "source": [
    "3) Now we pass the Post to user 2 for approval"
   ]
  },
  {
   "cell_type": "code",
   "execution_count": 7,
   "metadata": {},
   "outputs": [
    {
     "name": "stdout",
     "output_type": "stream",
     "text": [
      "Please pass to user 2 for Approval\n",
      "Please input your username: Beta\n",
      "Displaying Post for Review\n",
      "This is a sample post.\n",
      "Would you like to approve the post? Y or N \n",
      "y\n"
     ]
    }
   ],
   "source": [
    "print(\"Please pass to user 2 for Approval\")\n",
    "user2name = input(\"Please input your username: \")\n",
    "user2 = User(user2name,\"Approver\")\n",
    "print(\"Displaying Post for Review\")\n",
    "print(post1.post)\n",
    "user2approval = input(\"Would you like to approve the post? Y or N \\n\")\n",
    "if user2approval == \"Y\" or user2approval == \"y\":\n",
    "    post1.approvals[user2.name] = True\n",
    "else:\n",
    "    post1.approvals[user2.name] = False\n"
   ]
  },
  {
   "cell_type": "markdown",
   "metadata": {},
   "source": [
    "4) Now we verify if the post has been approved or not"
   ]
  },
  {
   "cell_type": "code",
   "execution_count": 8,
   "metadata": {
    "scrolled": true
   },
   "outputs": [
    {
     "name": "stdout",
     "output_type": "stream",
     "text": [
      "Post 1 Approval Status: \n",
      "The post has been approved\n"
     ]
    }
   ],
   "source": [
    "print(\"Post 1 Approval Status: \")\n",
    "print(post1.approved())"
   ]
  },
  {
   "cell_type": "code",
   "execution_count": null,
   "metadata": {},
   "outputs": [],
   "source": []
  }
 ],
 "metadata": {
  "kernelspec": {
   "display_name": "Python 3",
   "language": "python",
   "name": "python3"
  },
  "language_info": {
   "codemirror_mode": {
    "name": "ipython",
    "version": 3
   },
   "file_extension": ".py",
   "mimetype": "text/x-python",
   "name": "python",
   "nbconvert_exporter": "python",
   "pygments_lexer": "ipython3",
   "version": "3.7.3"
  }
 },
 "nbformat": 4,
 "nbformat_minor": 2
}
